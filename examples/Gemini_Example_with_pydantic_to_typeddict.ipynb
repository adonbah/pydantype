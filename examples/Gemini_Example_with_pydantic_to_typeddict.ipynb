{
  "cells": [
    {
      "cell_type": "markdown",
      "metadata": {
        "id": "welcome_markdown"
      },
      "source": [
        "# 🚀 PydanType: Pydantic to TypedDict Converter with Google Gemini Example\n",
        "\n",
        "This notebook demonstrates how to use the `pydantype` library with Google's Generative AI (Gemini 1.5 Pro).\n",
        "\n",
        "## Setup Steps:\n",
        "1. Install required libraries\n",
        "2. Set up API token\n",
        "3. Import necessary modules\n",
        "4. Define Pydantic models\n",
        "5. Convert Pydantic models to TypedDict\n",
        "6. Use with Gemini 1.5 Pro\n",
        "\n",
        "Let's get started! 🎉"
      ]
    },
    {
      "cell_type": "markdown",
      "metadata": {
        "id": "install_libraries_markdown"
      },
      "source": [
        "## 1. Install Required Libraries\n",
        "\n",
        "First, let's install the necessary libraries:"
      ]
    },
    {
      "cell_type": "code",
      "execution_count": null,
      "metadata": {
        "id": "install_libraries"
      },
      "outputs": [],
      "source": [
        "!pip -q install google-generativeai\n",
        "!pip install git+https://github.com/unclecode/pydantype.git"
      ]
    },
    {
      "cell_type": "markdown",
      "source": [
        "## 2. Basic Example of Conversion using pydantic_to_typeddict"
      ],
      "metadata": {
        "id": "FLkSSlHvAVHF"
      }
    },
    {
      "cell_type": "code",
      "source": [
        "from pydantic import BaseModel\n",
        "from typing import List, Optional\n",
        "from pydantype import convert\n",
        "class Address(BaseModel):\n",
        "    street: str\n",
        "    city: str\n",
        "    country: str\n",
        "\n",
        "class Person(BaseModel):\n",
        "    name: str\n",
        "    age: int\n",
        "    address: Address\n",
        "    hobbies: List[str]\n",
        "    nickname: Optional[str]\n",
        "\n",
        "PersonDict = convert(Person)\n",
        "\n",
        "print(\"PersonDict structure:\")\n",
        "for field, type_hint in PersonDict.__annotations__.items():\n",
        "    print(f\"{field}: {type_hint}\")\n",
        "\n",
        "# Create a Person instance\n",
        "person = Person(\n",
        "    name=\"John Doe\",\n",
        "    age=30,\n",
        "    address=Address(street=\"123 Main St\", city=\"Anytown\", country=\"USA\"),\n",
        "    hobbies=[\"reading\", \"swimming\"],\n",
        "    nickname=\"Johnny\"\n",
        ")\n",
        "\n",
        "# Convert to dict and verify it matches PersonDict\n",
        "person_dict = person.model_dump()\n",
        "assert isinstance(person_dict, dict)\n",
        "print(\"\\nPerson instance converted to dict successfully and matches PersonDict structure.\")\n",
        "print(person_dict)"
      ],
      "metadata": {
        "colab": {
          "base_uri": "https://localhost:8080/"
        },
        "id": "M0k_jyb-AWLO",
        "outputId": "2969c962-e67d-4db0-a32b-c6a594c671ce"
      },
      "execution_count": 11,
      "outputs": [
        {
          "output_type": "stream",
          "name": "stdout",
          "text": [
            "PersonDict structure:\n",
            "name: <class 'str'>\n",
            "age: <class 'int'>\n",
            "address: <class 'pydantype.converter.AddressDict'>\n",
            "hobbies: typing.List[str]\n",
            "nickname: typing.Optional[str]\n",
            "\n",
            "Person instance converted to dict successfully and matches PersonDict structure.\n",
            "{'name': 'John Doe', 'age': 30, 'address': {'street': '123 Main St', 'city': 'Anytown', 'country': 'USA'}, 'hobbies': ['reading', 'swimming'], 'nickname': 'Johnny'}\n"
          ]
        }
      ]
    },
    {
      "cell_type": "markdown",
      "metadata": {
        "id": "setup_api_token_markdown"
      },
      "source": [
        "## 3. Set up API Token\n",
        "\n",
        "Now, let's set up the API token using Colab's userdata feature. Make sure you've added your Google AI Studio API key to Colab's secrets with the name 'GOOGLE_AI_STUDIO'."
      ]
    },
    {
      "cell_type": "code",
      "execution_count": 12,
      "metadata": {
        "id": "setup_api_token",
        "colab": {
          "base_uri": "https://localhost:8080/"
        },
        "outputId": "4963c3cc-f88b-47b8-b09b-ebe007e6bf19"
      },
      "outputs": [
        {
          "output_type": "stream",
          "name": "stdout",
          "text": [
            "API token set successfully!\n"
          ]
        }
      ],
      "source": [
        "import os\n",
        "from google.colab import userdata\n",
        "\n",
        "os.environ[\"GOOGLE_AI_STUDIO\"] = userdata.get('GOOGLE_AI_STUDIO')\n",
        "print(\"API token set successfully!\")"
      ]
    },
    {
      "cell_type": "markdown",
      "metadata": {
        "id": "import_modules_markdown"
      },
      "source": [
        "## 4. Import Necessary Modules\n",
        "\n",
        "Let's import the required modules for our example:"
      ]
    },
    {
      "cell_type": "code",
      "execution_count": 13,
      "metadata": {
        "id": "import_modules"
      },
      "outputs": [],
      "source": [
        "import google.generativeai as genai\n",
        "from pydantic import BaseModel\n",
        "from typing import List\n",
        "from pydantype import convert\n",
        "genai.configure(api_key=os.environ[\"GOOGLE_AI_STUDIO\"])"
      ]
    },
    {
      "cell_type": "markdown",
      "metadata": {
        "id": "define_models_markdown"
      },
      "source": [
        "## 5. Define Pydantic Models\n",
        "\n",
        "Now, let's define our Pydantic models for the recipe example:"
      ]
    },
    {
      "cell_type": "code",
      "execution_count": 14,
      "metadata": {
        "id": "define_models",
        "colab": {
          "base_uri": "https://localhost:8080/"
        },
        "outputId": "6177b985-bbce-4226-f1e3-e8d7526eabb6"
      },
      "outputs": [
        {
          "output_type": "stream",
          "name": "stdout",
          "text": [
            "Pydantic models defined successfully!\n"
          ]
        }
      ],
      "source": [
        "class Recipe(BaseModel):\n",
        "    recipe_name: str\n",
        "    ingredients: str\n",
        "\n",
        "class RecipeList(BaseModel):\n",
        "    recipes: List[Recipe]\n",
        "\n",
        "print(\"Pydantic models defined successfully!\")"
      ]
    },
    {
      "cell_type": "markdown",
      "metadata": {
        "id": "convert_models_markdown"
      },
      "source": [
        "## 6. Convert Pydantic Models to TypedDict\n",
        "\n",
        "Let's convert our Pydantic models to TypedDict using the `pydantype` converter:"
      ]
    },
    {
      "cell_type": "code",
      "execution_count": 18,
      "metadata": {
        "id": "convert_models",
        "colab": {
          "base_uri": "https://localhost:8080/"
        },
        "outputId": "58320070-3cbf-415f-86cf-6b2ca63504a2"
      },
      "outputs": [
        {
          "output_type": "stream",
          "name": "stdout",
          "text": [
            "Pydantic models convertted to TypedDict successfully!\n",
            "{'recipes': [Recipe(recipe_name='test', ingredients='test')]}\n"
          ]
        }
      ],
      "source": [
        "RecipeListDict = convert(RecipeList)\n",
        "print(\"Pydantic models convertted to TypedDict successfully!\")\n",
        "example = RecipeListDict(recipes=[Recipe(recipe_name=\"test\", ingredients=\"test\")])\n",
        "assert isinstance(person_dict, dict)\n",
        "print(example)"
      ]
    },
    {
      "cell_type": "markdown",
      "metadata": {
        "id": "use_with_gemini_markdown"
      },
      "source": [
        "## 6. Use with Gemini 1.5 Pro\n",
        "\n",
        "Finally, let's use our converted TypedDict with Gemini 1.5 Pro to generate some cookie recipes:"
      ]
    },
    {
      "cell_type": "code",
      "execution_count": 19,
      "metadata": {
        "id": "use_with_gemini",
        "colab": {
          "base_uri": "https://localhost:8080/",
          "height": 106
        },
        "outputId": "14e8791e-0b2b-49d2-f6fc-598e6f87efb7"
      },
      "outputs": [
        {
          "output_type": "stream",
          "name": "stdout",
          "text": [
            "Generated Recipes:\n",
            "{\n",
            "\"recipes\": [{\"ingredients\": \"1 cup (2 sticks) unsalted butter, softened\\n1 cup granulated sugar\\n1/2 cup packed light brown sugar\\n2 large eggs\\n1 teaspoon pure vanilla extract\\n2 1/4 cups all-purpose flour\\n1 teaspoon baking soda\\n1/2 teaspoon salt\\n1 cup chocolate chips\", \"recipe_name\": \"Chocolate Chip Cookies\"}, {\"ingredients\": \"1 cup (2 sticks) unsalted butter, softened\\n1 cup granulated sugar\\n1/2 cup packed light brown sugar\\n2 large eggs\\n1 teaspoon pure vanilla extract\\n2 1/4 cups all-purpose flour\\n1 teaspoon baking soda\\n1 teaspoon ground cinnamon\\n1/4 teaspoon ground nutmeg\\n1/2 teaspoon salt\\n1 cup raisins\", \"recipe_name\": \"Oatmeal Raisin Cookies\"}, {\"ingredients\": \"1 cup (2 sticks) unsalted butter, softened\\n1 cup granulated sugar\\n1/2 cup packed light brown sugar\\n2 large eggs\\n1 teaspoon pure vanilla extract\\n2 1/4 cups all-purpose flour\\n1 teaspoon baking soda\\n1/2 teaspoon salt\\n1 cup white chocolate chips\\n1 cup dried cranberries\", \"recipe_name\": \"White Chocolate Cranberry Cookies\"}]\n",
            "} \n"
          ]
        }
      ],
      "source": [
        "# Configure the model\n",
        "model = genai.GenerativeModel('gemini-1.5-pro',\n",
        "                              generation_config={\n",
        "                                  \"response_mime_type\": \"application/json\",\n",
        "                                  \"response_schema\": RecipeListDict\n",
        "                              })\n",
        "\n",
        "# Generate content\n",
        "prompt = \"List 3 popular cookie recipes\"\n",
        "response = model.generate_content(prompt)\n",
        "\n",
        "# Print the response\n",
        "print(\"Generated Recipes:\")\n",
        "print(response.text)"
      ]
    },
    {
      "cell_type": "markdown",
      "metadata": {
        "id": "conclusion_markdown"
      },
      "source": [
        "## Conclusion\n",
        "\n",
        "Congratulations! 🎉 You've successfully used the `pydantype` converter with Google's Generative AI to generate cookie recipes.\n",
        "\n",
        "This example demonstrates how you can leverage the power of Pydantic for model definition and validation, while still being able to use APIs that require TypedDict, like Gemini 1.5 Pro.\n",
        "\n",
        "Feel free to modify the Pydantic models or the prompt to experiment further! Happy coding! 💻🍪"
      ]
    }
  ],
  "metadata": {
    "colab": {
      "provenance": []
    },
    "kernelspec": {
      "display_name": "Python 3",
      "name": "python3"
    },
    "language_info": {
      "name": "python"
    }
  },
  "nbformat": 4,
  "nbformat_minor": 0
}
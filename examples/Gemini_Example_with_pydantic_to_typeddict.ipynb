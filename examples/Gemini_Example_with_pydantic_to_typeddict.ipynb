{
  "cells": [
    {
      "cell_type": "markdown",
      "metadata": {
        "id": "welcome_markdown"
      },
      "source": [
        "# 🚀 Pydantic to TypedDict Converter with Google Gemini Example\n",
        "\n",
        "This notebook demonstrates how to use the `pydantic_to_typeddict` library with Google's Generative AI (Gemini 1.5 Pro).\n",
        "\n",
        "## Setup Steps:\n",
        "1. Install required libraries\n",
        "2. Set up API token\n",
        "3. Import necessary modules\n",
        "4. Define Pydantic models\n",
        "5. Convert Pydantic models to TypedDict\n",
        "6. Use with Gemini 1.5 Pro\n",
        "\n",
        "Let's get started! 🎉"
      ]
    },
    {
      "cell_type": "markdown",
      "metadata": {
        "id": "install_libraries_markdown"
      },
      "source": [
        "## 1. Install Required Libraries\n",
        "\n",
        "First, let's install the necessary libraries:"
      ]
    },
    {
      "cell_type": "code",
      "execution_count": null,
      "metadata": {
        "id": "install_libraries"
      },
      "outputs": [],
      "source": [
        "!pip install google-generativeai\n",
        "!pip install git+https://github.com/unclecode/pydantype.git"
      ]
    },
    {
      "cell_type": "markdown",
      "metadata": {
        "id": "setup_api_token_markdown"
      },
      "source": [
        "## 2. Set up API Token\n",
        "\n",
        "Now, let's set up the API token using Colab's userdata feature. Make sure you've added your Google AI Studio API key to Colab's secrets with the name 'GOOGLE_AI_STUDIO'."
      ]
    },
    {
      "cell_type": "code",
      "execution_count": null,
      "metadata": {
        "id": "setup_api_token"
      },
      "outputs": [],
      "source": [
        "import os\n",
        "from google.colab import userdata\n",
        "\n",
        "os.environ[\"GOOGLE_AI_STUDIO\"] = userdata.get('GOOGLE_AI_STUDIO')\n",
        "print(\"API token set successfully!\")"
      ]
    },
    {
      "cell_type": "markdown",
      "metadata": {
        "id": "import_modules_markdown"
      },
      "source": [
        "## 3. Import Necessary Modules\n",
        "\n",
        "Let's import the required modules for our example:"
      ]
    },
    {
      "cell_type": "code",
      "execution_count": null,
      "metadata": {
        "id": "import_modules"
      },
      "outputs": [],
      "source": [
        "import google.generativeai as genai\n",
        "from pydantic import BaseModel\n",
        "from typing import List\n",
        "from pydantype import convert"
      ]
    },
    {
      "cell_type": "markdown",
      "metadata": {
        "id": "define_models_markdown"
      },
      "source": [
        "## 4. Define Pydantic Models\n",
        "\n",
        "Now, let's define our Pydantic models for the recipe example:"
      ]
    },
    {
      "cell_type": "code",
      "execution_count": null,
      "metadata": {
        "id": "define_models"
      },
      "outputs": [],
      "source": [
        "class Recipe(BaseModel):\n",
        "    recipe_name: str\n",
        "    ingredients: str\n",
        "\n",
        "class RecipeList(BaseModel):\n",
        "    recipes: List[Recipe]\n",
        "\n",
        "print(\"Pydantic models defined successfully!\")"
      ]
    },
    {
      "cell_type": "markdown",
      "metadata": {
        "id": "convert_models_markdown"
      },
      "source": [
        "## 5. Convert Pydantic Models to TypedDict\n",
        "\n",
        "Let's convert our Pydantic models to TypedDict using the `pydantic_to_typeddict` converter:"
      ]
    },
    {
      "cell_type": "code",
      "execution_count": null,
      "metadata": {
        "id": "convert_models"
      },
      "outputs": [],
      "source": [
        "RecipeListDict = convert(RecipeList)\n",
        "print(\"Pydantic models convertted to TypedDict successfully!\")"
      ]
    },
    {
      "cell_type": "markdown",
      "metadata": {
        "id": "use_with_gemini_markdown"
      },
      "source": [
        "## 6. Use with Gemini 1.5 Pro\n",
        "\n",
        "Finally, let's use our converted TypedDict with Gemini 1.5 Pro to generate some cookie recipes:"
      ]
    },
    {
      "cell_type": "code",
      "execution_count": null,
      "metadata": {
        "id": "use_with_gemini"
      },
      "outputs": [],
      "source": [
        "# Configure the model\n",
        "model = genai.GenerativeModel('gemini-1.5-pro',\n",
        "                              generation_config={\n",
        "                                  \"response_mime_type\": \"application/json\",\n",
        "                                  \"response_schema\": RecipeListDict\n",
        "                              })\n",
        "\n",
        "# Generate content\n",
        "prompt = \"List 3 popular cookie recipes\"\n",
        "response = model.generate_content(prompt)\n",
        "\n",
        "# Print the response\n",
        "print(\"Generated Recipes:\")\n",
        "print(response.text)"
      ]
    },
    {
      "cell_type": "markdown",
      "metadata": {
        "id": "conclusion_markdown"
      },
      "source": [
        "## Conclusion\n",
        "\n",
        "Congratulations! 🎉 You've successfully used the `pydantic_to_typeddict` converter with Google's Generative AI to generate cookie recipes.\n",
        "\n",
        "This example demonstrates how you can leverage the power of Pydantic for model definition and validation, while still being able to use APIs that require TypedDict, like Gemini 1.5 Pro.\n",
        "\n",
        "Feel free to modify the Pydantic models or the prompt to experiment further! Happy coding! 💻🍪"
      ]
    }
  ],
  "metadata": {
    "colab": {
      "name": "Gemini Example with pydantic_to_typeddict",
      "provenance": []
    },
    "kernelspec": {
      "display_name": "Python 3",
      "name": "python3"
    },
    "language_info": {
      "name": "python"
    }
  },
  "nbformat": 4,
  "nbformat_minor": 0
}
